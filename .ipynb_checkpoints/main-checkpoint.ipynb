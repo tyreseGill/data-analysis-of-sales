{
 "cells": [
  {
   "cell_type": "markdown",
   "id": "1064083d",
   "metadata": {},
   "source": [
    "# Data Breakdown and Visualization\n",
    "## Imports"
   ]
  },
  {
   "cell_type": "code",
   "execution_count": null,
   "id": "51984593",
   "metadata": {
    "vscode": {
     "languageId": "plaintext"
    }
   },
   "outputs": [],
   "source": [
    "import numpy as np\n",
    "import matplotlib.pyplot as plt"
   ]
  },
  {
   "cell_type": "markdown",
   "id": "c4a6ada3",
   "metadata": {},
   "source": [
    "## Mean"
   ]
  },
  {
   "cell_type": "code",
   "execution_count": null,
   "id": "e73f90f1",
   "metadata": {
    "vscode": {
     "languageId": "plaintext"
    }
   },
   "outputs": [],
   "source": [
    "def main(calc_mean_stats: bool=False, calc_std_stats: bool=False, calc_prob_stats: bool=False):\n",
    "    # Loads text file\n",
    "    file_name = 'Sales_01_20.csv'\n",
    "    # Skips first row\n",
    "    og_data = np.loadtxt(file_name, delimiter=',', skiprows=1)\n",
    "\n",
    "    # Ensures that one and only one stat will be displayed\n",
    "    assert sum([calc_mean_stats, calc_std_stats, calc_prob_stats]) == 1, \"Please specify one and only one statistic to showcase.\"\n",
    "\n",
    "    if calc_mean_stats:\n",
    "        mean_sale_statistics: list[float] = []\n",
    "    elif calc_std_stats:\n",
    "        std_sale_statistics: list[float] = []\n",
    "    elif calc_prob_stats:\n",
    "        prob_sale_statistics: list[float] = []\n",
    "\n",
    "    for year in range(2001, 2021):\n",
    "        # Filters data to retrieve sales from a given year and build a temporary list of the sales from that year\n",
    "        data_from_some_year = og_data[og_data[:, 0] == year]\n",
    "\n",
    "        # Using the data from that year, calculates the mean, std, and probability of a sale falling between $200K-300K\n",
    "        if calc_mean_stats:\n",
    "            mean_from_some_year: float = data_from_some_year[:, 1].mean()\n",
    "        std_from_some_year: float = data_from_some_year[:, 1].std()\n",
    "        data_in_range_from_some_year = data_from_some_year[(200_000 <= data_from_some_year[:, 1]) &\n",
    "                                                        (data_from_some_year[:, 1] <= 300_000)]\n",
    "        prob_from_some_year: float = len(data_in_range_from_some_year) / len(data_from_some_year)\n",
    "\n",
    "        print(f'********************** {year} Statistics ***********************')\n",
    "        print(f'{year} Data Mean: ${mean_from_some_year:,.2f}')\n",
    "        print(f'{year} Data Standard Deviation: ${std_from_some_year:,.2f}')\n",
    "        print(f'{year} Data Probability of being Between $200K and $300K: {prob_from_some_year:.2%}\\n')\n",
    "\n",
    "        # Adds those yearly statistics to a list for reference when creating the y-axis of bar graph\n",
    "        mean_sale_statistics.append(mean_from_some_year)\n",
    "        std_sale_statistics.append(std_from_some_year)\n",
    "        prob_sale_statistics.append(prob_from_some_year)\n",
    "\n",
    "    # Creates a list of the years from 2001-2020 for the x-axis of the bar graph\n",
    "    years: list[int] = [year for year in range(2001, 2021)]\n",
    "\n",
    "    '''Figure 1: Mean Prices'''\n",
    "    fig, ax = plt.subplots()\n",
    "    ax.bar(years, mean_sale_statistics)\n",
    "    ax.set_xlabel('Year')\n",
    "    ax.set_ylabel('Price')\n",
    "    ax.set_title('Mean Price of Residential Units by Year')\n",
    "    plt.show()\n",
    "\n",
    "    '''Figure 2: Standard Deviations'''\n",
    "    fig_2, ax_2 = plt.subplots()\n",
    "    ax_2.bar(years, std_sale_statistics)\n",
    "    ax_2.set_xlabel('Year')\n",
    "    ax_2.set_ylabel('Standard Deviation (in Millions)')\n",
    "    ax_2.set_title('Standard Deviation of Residential Units by Year')\n",
    "    plt.show()\n",
    "\n",
    "    '''Figure 3: Probabilities'''\n",
    "    fig_3, ax_3 = plt.subplots()\n",
    "    ax_3.bar(years, prob_sale_statistics)\n",
    "    ax_3.set_xlabel('Year')\n",
    "    ax_3.set_ylabel('Probability of Price being Between 200k and 300k')\n",
    "    ax_3.set_title('Probability of Price Ranging from 200K-300K for Residential Units by Year')\n",
    "    plt.show()\n"
   ]
  },
  {
   "cell_type": "markdown",
   "id": "9427369a",
   "metadata": {},
   "source": [
    "## Standard Deviation"
   ]
  },
  {
   "cell_type": "code",
   "execution_count": null,
   "id": "48d21295",
   "metadata": {
    "vscode": {
     "languageId": "plaintext"
    }
   },
   "outputs": [],
   "source": []
  },
  {
   "cell_type": "markdown",
   "id": "7f9ed411",
   "metadata": {},
   "source": [
    "## Probability"
   ]
  },
  {
   "cell_type": "code",
   "execution_count": null,
   "id": "168bbdc2",
   "metadata": {
    "vscode": {
     "languageId": "plaintext"
    }
   },
   "outputs": [],
   "source": []
  }
 ],
 "metadata": {
  "language_info": {
   "name": "python"
  }
 },
 "nbformat": 4,
 "nbformat_minor": 5
}
